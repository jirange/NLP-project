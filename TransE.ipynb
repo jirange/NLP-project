{
 "cells": [
  {
   "cell_type": "markdown",
   "metadata": {},
   "source": [
    "# TransE的pytorch实现\n",
    "\n",
    "TransE不是神经网络模型，它无法理解句子的含义，因而得分不高，随便跑跑mrr大概在42左右，调下参大概有45-50。\n",
    "\n",
    "TransE的优势在于不吃算力，仅靠CPU就能运行，这里我写的GPU版本速度更快。而且代码简单。\n",
    "\n",
    "又试了一下，我已经复现不出自己的得分了，太玄学了，大概策略就是先norm取1得到最优模型，加载该模型并norm改为2训练得到最优模型，再加载该模型norm取3得到最优模型，再反复调整后最优分数就是50左右；\n",
    "在算力允许的情况下，batchsize尽可能大，比如10万-150万（就是全部）；然后就是embedding维度我感觉影响不大，100维包含的信息足够丰富了，试过256和512，貌似大一点有时要好一些，不太确定，太大了会比较费算力；学习率粗调可以在0.01-0.001之间，微调就在0.001-0.0001之间吧。\n",
    "\n",
    "提供给大家学习，代码也可以在我的github下载：https://github.com/renqi1/TransE_Pytorch_OpenBG500\n"
   ]
  },
  {
   "cell_type": "code",
   "execution_count": 1,
   "metadata": {},
   "outputs": [],
   "source": [
    "import torch\n",
    "from torch import nn\n",
    "from torch.utils import data\n",
    "import numpy as np\n",
    "import tqdm"
   ]
  },
  {
   "cell_type": "markdown",
   "metadata": {},
   "source": [
    "## 构建数据集"
   ]
  },
  {
   "cell_type": "code",
   "execution_count": 2,
   "metadata": {},
   "outputs": [],
   "source": [
    "# 训练集和验证集\n",
    "class TripleDataset(data.Dataset):\n",
    "    def __init__(self, ent2id, rel2id, triple_data_list):\n",
    "        self.ent2id = ent2id\n",
    "        self.rel2id = rel2id\n",
    "        self.data = triple_data_list\n",
    "\n",
    "    def __len__(self):\n",
    "        return len(self.data)\n",
    "\n",
    "    def __getitem__(self, index):\n",
    "        head, relation, tail = self.data[index]\n",
    "        head_id = self.ent2id[head]\n",
    "        relation_id = self.rel2id[relation]\n",
    "        tail_id = self.ent2id[tail]\n",
    "        return head_id, relation_id, tail_id\n",
    "\n",
    "# 测试集    \n",
    "class TestDataset(data.Dataset):\n",
    "    def __init__(self, ent2id, rel2id, test_data_list):\n",
    "        self.ent2id = ent2id\n",
    "        self.rel2id = rel2id\n",
    "        self.data = test_data_list\n",
    "\n",
    "    def __len__(self):\n",
    "        return len(self.data)\n",
    "\n",
    "    def __getitem__(self, index):\n",
    "        head, relation = self.data[index]\n",
    "        head_id = self.ent2id[head]\n",
    "        relation_id = self.rel2id[relation]\n",
    "        return head_id, relation_id"
   ]
  },
  {
   "cell_type": "markdown",
   "metadata": {},
   "source": [
    "## TransE模型"
   ]
  },
  {
   "cell_type": "code",
   "execution_count": 3,
   "metadata": {},
   "outputs": [],
   "source": [
    "class TransE(nn.Module):\n",
    "\n",
    "    def __init__(self, entity_num, relation_num, norm=1, dim=100):\n",
    "        super(TransE, self).__init__()\n",
    "        self.norm = norm\n",
    "        self.dim = dim\n",
    "        self.entity_num = entity_num\n",
    "        self.entities_emb = self._init_emb(entity_num)\n",
    "        self.relations_emb = self._init_emb(relation_num)\n",
    "\n",
    "    def _init_emb(self, num_embeddings):\n",
    "        embedding = nn.Embedding(num_embeddings=num_embeddings, embedding_dim=self.dim)\n",
    "        uniform_range = 6 / np.sqrt(self.dim)\n",
    "        embedding.weight.data.uniform_(-uniform_range, uniform_range)\n",
    "        embedding.weight.data = torch.div(embedding.weight.data, embedding.weight.data.norm(p=2, dim=1, keepdim=True))\n",
    "        return embedding\n",
    "\n",
    "    def forward(self, positive_triplets: torch.LongTensor, negative_triplets: torch.LongTensor):\n",
    "        positive_distances = self._distance(positive_triplets)\n",
    "        negative_distances = self._distance(negative_triplets)\n",
    "        return positive_distances, negative_distances\n",
    "\n",
    "    def _distance(self, triplets):\n",
    "        heads = self.entities_emb(triplets[:, 0])\n",
    "        relations = self.relations_emb(triplets[:, 1])\n",
    "        tails = self.entities_emb(triplets[:, 2])\n",
    "        return (heads + relations - tails).norm(p=self.norm, dim=1)\n",
    "\n",
    "    def link_predict(self, head, relation, tail=None, k=10):\n",
    "        # h_add_r: [batch size, embed size] -> [batch size, 1, embed size] -> [batch size, entity num, embed size]\n",
    "        h_add_r = self.entities_emb(head) + self.relations_emb(relation)\n",
    "        h_add_r = torch.unsqueeze(h_add_r, dim=1)\n",
    "        h_add_r = h_add_r.expand(h_add_r.shape[0], self.entity_num, self.dim)\n",
    "        # embed_tail: [batch size, embed size] -> [batch size, entity num, embed size]\n",
    "        embed_tail = self.entities_emb.weight.data.expand(h_add_r.shape[0], self.entity_num, self.dim)\n",
    "        # values: [batch size, k] scores, the smaller, the better\n",
    "        # indices: [batch size, k] indices of entities ranked by scores\n",
    "        values, indices = torch.topk(torch.norm(h_add_r - embed_tail, dim=2), k=self.entity_num, dim=1, largest=False)\n",
    "        if tail is not None:\n",
    "            tail = tail.view(-1, 1)\n",
    "            rank_num = torch.eq(indices, tail).nonzero().permute(1, 0)[1]+1\n",
    "            rank_num[rank_num > 9] = 10000\n",
    "            mrr = torch.sum(1/rank_num)\n",
    "            hits_1_num = torch.sum(torch.eq(indices[:, :1], tail)).item()\n",
    "            hits_3_num = torch.sum(torch.eq(indices[:, :3], tail)).item()\n",
    "            hits_10_num = torch.sum(torch.eq(indices[:, :10], tail)).item()\n",
    "            return mrr, hits_1_num, hits_3_num, hits_10_num     # 返回一个batchsize, mrr的和，hit@k的和\n",
    "        return indices[:, :k]\n",
    "\n",
    "    def evaluate(self, data_loader, dev_num=5000.0):\n",
    "        mrr_sum = hits_1_nums = hits_3_nums = hits_10_nums = 0\n",
    "        for heads, relations, tails in tqdm.tqdm(data_loader):\n",
    "            mrr_sum_batch, hits_1_num, hits_3_num, hits_10_num = self.link_predict(heads.cuda(), relations.cuda(), tails.cuda())\n",
    "            mrr_sum += mrr_sum_batch\n",
    "            hits_1_nums += hits_1_num\n",
    "            hits_3_nums += hits_3_num\n",
    "            hits_10_nums += hits_10_num\n",
    "        return mrr_sum/dev_num, hits_1_nums/dev_num, hits_3_nums/dev_num, hits_10_nums/dev_num"
   ]
  },
  {
   "cell_type": "markdown",
   "metadata": {},
   "source": [
    "## 设置参数"
   ]
  },
  {
   "cell_type": "code",
   "execution_count": 4,
   "metadata": {},
   "outputs": [],
   "source": [
    "# batchsize增大，得分略有上升\n",
    "train_batch_size = 100000\n",
    "dev_batch_size = 20  # 显存不够就调小\n",
    "test_batch_size = 20\n",
    "epochs = 40\n",
    "margin = 1\n",
    "print_frequency = 5  # 每多少step输出一次信息\n",
    "validation = True  # 是否验证，验证比较费时\n",
    "dev_interval = 5  # 每多少轮验证一次，微调设小一点，会保存最佳权重\n",
    "best_mrr = 0\n",
    "learning_rate = 0.001  # 学习率建议粗调0.01-0.001，精调0.001-0.0001\n",
    "distance_norm = 3  # 论文是L1距离效果不好，取2或3效果好\n",
    "embedding_dim = 100  # 维度增大可能会有提升，我感觉没用，100维包含的信息足够丰富"
   ]
  },
  {
   "cell_type": "markdown",
   "metadata": {},
   "source": [
    "## 加载数据集"
   ]
  },
  {
   "cell_type": "code",
   "execution_count": 7,
   "metadata": {},
   "outputs": [],
   "source": [
    "path = 'data/OpenBG500/OpenBG500_'"
   ]
  },
  {
   "cell_type": "code",
   "execution_count": 8,
   "metadata": {},
   "outputs": [],
   "source": [
    "with open(path+'entity2text.tsv', 'r', encoding='utf-8') as fp:\n",
    "    dat = fp.readlines()\n",
    "    lines = [line.strip('\\n').split('\\t') for line in dat]\n",
    "ent2id = {line[0]: i for i, line in enumerate(lines)}\n",
    "id2ent = {i: line[0] for i, line in enumerate(lines)}\n",
    "with open(path+'relation2text.tsv', 'r', encoding='utf-8') as fp:\n",
    "    dat = fp.readlines()\n",
    "    lines = [line.strip().split('\\t') for line in dat]\n",
    "rel2id = {line[0]: i for i, line in enumerate(lines)}\n",
    "with open(path+'train.tsv', 'r', encoding='utf-8') as fp:\n",
    "    dat = fp.readlines()\n",
    "    train = [line.strip('\\n').split('\\t') for line in dat]\n",
    "with open(path+'dev.tsv', 'r', encoding='utf-8') as fp:\n",
    "    dat = fp.readlines()\n",
    "    dev = [line.strip('\\n').split('\\t') for line in dat]\n",
    "with open(path+'test.tsv', 'r', encoding='utf-8') as fp:\n",
    "    test = fp.readlines()\n",
    "    test = [line.strip('\\n').split('\\t') for line in test]\n",
    "# 构建数据集\n",
    "train_dataset = TripleDataset(ent2id, rel2id, train)\n",
    "dev_dataset = TripleDataset(ent2id, rel2id, dev)\n",
    "train_data_loader = data.DataLoader(train_dataset, batch_size=train_batch_size, shuffle=True)\n",
    "dev_data_loader = data.DataLoader(dev_dataset, batch_size=dev_batch_size)\n",
    "test_dataset = TestDataset(ent2id, rel2id, test)\n",
    "test_data_loader = data.DataLoader(test_dataset, batch_size=test_batch_size)"
   ]
  },
  {
   "cell_type": "markdown",
   "metadata": {},
   "source": [
    "## 训练和验证"
   ]
  },
  {
   "cell_type": "code",
   "execution_count": 9,
   "metadata": {},
   "outputs": [
    {
     "name": "stdout",
     "output_type": "stream",
     "text": [
      "start training...\n",
      "epoch:0/40, step:0/13, loss=0.9999334812164307, avg_loss=0.9999334812164307\n",
      "epoch:0/40, step:5/13, loss=0.9918926954269409, avg_loss=0.9959738254547119\n",
      "epoch:0/40, step:10/13, loss=0.9838432669639587, avg_loss=0.9918791651725769\n",
      "epoch:0/40, all_loss=12.872831344604492\n",
      "epoch:1/40, step:0/13, loss=0.975989818572998, avg_loss=0.975989818572998\n",
      "epoch:1/40, step:5/13, loss=0.9672017097473145, avg_loss=0.971381664276123\n",
      "epoch:1/40, step:10/13, loss=0.9584214687347412, avg_loss=0.9669575691223145\n",
      "epoch:1/40, all_loss=12.548501968383789\n",
      "epoch:2/40, step:0/13, loss=0.9518741965293884, avg_loss=0.9518741965293884\n",
      "epoch:2/40, step:5/13, loss=0.9433963298797607, avg_loss=0.9473958015441895\n",
      "epoch:2/40, step:10/13, loss=0.9349619150161743, avg_loss=0.9431370496749878\n",
      "epoch:2/40, all_loss=12.238751411437988\n",
      "epoch:3/40, step:0/13, loss=0.9285838603973389, avg_loss=0.9285838603973389\n",
      "epoch:3/40, step:5/13, loss=0.9198927283287048, avg_loss=0.9241694808006287\n",
      "epoch:3/40, step:10/13, loss=0.9116070866584778, avg_loss=0.9200476408004761\n",
      "epoch:3/40, all_loss=11.938556671142578\n",
      "epoch:4/40, step:0/13, loss=0.9050137400627136, avg_loss=0.9050137400627136\n",
      "epoch:4/40, step:5/13, loss=0.8967441916465759, avg_loss=0.9010373950004578\n",
      "epoch:4/40, step:10/13, loss=0.889517068862915, avg_loss=0.897131621837616\n",
      "epoch:4/40, all_loss=11.641792297363281\n",
      "testing...\n"
     ]
    },
    {
     "name": "stderr",
     "output_type": "stream",
     "text": [
      "100%|████████████████████████████████████████████████████████████████████████████████| 250/250 [00:20<00:00, 12.20it/s]\n"
     ]
    },
    {
     "name": "stdout",
     "output_type": "stream",
     "text": [
      "mrr: 0.21487672626972198, hit@1: 0.0212, hit@3: 0.3926, hit@10: 0.5074  *\n",
      "epoch:5/40, step:0/13, loss=0.882912814617157, avg_loss=0.882912814617157\n",
      "epoch:5/40, step:5/13, loss=0.8743348121643066, avg_loss=0.878745973110199\n",
      "epoch:5/40, step:10/13, loss=0.8665673136711121, avg_loss=0.8746995329856873\n",
      "epoch:5/40, all_loss=11.350520133972168\n",
      "epoch:6/40, step:0/13, loss=0.8611227869987488, avg_loss=0.8611227869987488\n",
      "epoch:6/40, step:5/13, loss=0.8519725799560547, avg_loss=0.8562087416648865\n",
      "epoch:6/40, step:10/13, loss=0.8446199893951416, avg_loss=0.852358341217041\n",
      "epoch:6/40, all_loss=11.061125755310059\n",
      "epoch:7/40, step:0/13, loss=0.8380495309829712, avg_loss=0.8380495309829712\n",
      "epoch:7/40, step:5/13, loss=0.8301265239715576, avg_loss=0.8341266512870789\n",
      "epoch:7/40, step:10/13, loss=0.822293758392334, avg_loss=0.8300257921218872\n",
      "epoch:7/40, all_loss=10.769623756408691\n",
      "epoch:8/40, step:0/13, loss=0.815977931022644, avg_loss=0.815977931022644\n",
      "epoch:8/40, step:5/13, loss=0.8072604537010193, avg_loss=0.8113373517990112\n",
      "epoch:8/40, step:10/13, loss=0.7995234131813049, avg_loss=0.8071399331092834\n",
      "epoch:8/40, all_loss=10.472246170043945\n",
      "epoch:9/40, step:0/13, loss=0.7935633659362793, avg_loss=0.7935633659362793\n",
      "epoch:9/40, step:5/13, loss=0.7842637300491333, avg_loss=0.7888802886009216\n",
      "epoch:9/40, step:10/13, loss=0.7752456068992615, avg_loss=0.7846307158470154\n",
      "epoch:9/40, all_loss=10.179080963134766\n",
      "testing...\n"
     ]
    },
    {
     "name": "stderr",
     "output_type": "stream",
     "text": [
      "100%|████████████████████████████████████████████████████████████████████████████████| 250/250 [00:21<00:00, 11.88it/s]\n"
     ]
    },
    {
     "name": "stdout",
     "output_type": "stream",
     "text": [
      "mrr: 0.449470579624176, hit@1: 0.3204, hit@3: 0.5494, hit@10: 0.7  *\n",
      "epoch:10/40, step:0/13, loss=0.7695481777191162, avg_loss=0.7695481777191162\n",
      "epoch:10/40, step:5/13, loss=0.7612093687057495, avg_loss=0.765253484249115\n",
      "epoch:10/40, step:10/13, loss=0.7537643313407898, avg_loss=0.7611345052719116\n",
      "epoch:10/40, all_loss=9.8736572265625\n",
      "epoch:11/40, step:0/13, loss=0.7454591989517212, avg_loss=0.7454591989517212\n",
      "epoch:11/40, step:5/13, loss=0.7374083995819092, avg_loss=0.7416588664054871\n",
      "epoch:11/40, step:10/13, loss=0.7311813235282898, avg_loss=0.7375125288963318\n",
      "epoch:11/40, all_loss=9.56297492980957\n",
      "epoch:12/40, step:0/13, loss=0.7222965359687805, avg_loss=0.7222965359687805\n",
      "epoch:12/40, step:5/13, loss=0.7124143838882446, avg_loss=0.7172896265983582\n",
      "epoch:12/40, step:10/13, loss=0.7041597366333008, avg_loss=0.7130352854728699\n",
      "epoch:12/40, all_loss=9.246464729309082\n",
      "epoch:13/40, step:0/13, loss=0.6980627179145813, avg_loss=0.6980627179145813\n",
      "epoch:13/40, step:5/13, loss=0.688275158405304, avg_loss=0.6931585669517517\n",
      "epoch:13/40, step:10/13, loss=0.6790415644645691, avg_loss=0.688464343547821\n",
      "epoch:13/40, all_loss=8.927132606506348\n",
      "epoch:14/40, step:0/13, loss=0.6722712516784668, avg_loss=0.6722712516784668\n",
      "epoch:14/40, step:5/13, loss=0.6638171672821045, avg_loss=0.6675347089767456\n",
      "epoch:14/40, step:10/13, loss=0.6543508768081665, avg_loss=0.663247287273407\n",
      "epoch:14/40, all_loss=8.59787654876709\n",
      "testing...\n"
     ]
    },
    {
     "name": "stderr",
     "output_type": "stream",
     "text": [
      "100%|████████████████████████████████████████████████████████████████████████████████| 250/250 [00:21<00:00, 11.79it/s]\n"
     ]
    },
    {
     "name": "stdout",
     "output_type": "stream",
     "text": [
      "mrr: 0.5059024095535278, hit@1: 0.3926, hit@3: 0.5924, hit@10: 0.74  *\n",
      "epoch:15/40, step:0/13, loss=0.6487552523612976, avg_loss=0.6487552523612976\n",
      "epoch:15/40, step:5/13, loss=0.6382371187210083, avg_loss=0.6429221630096436\n",
      "epoch:15/40, step:10/13, loss=0.626571536064148, avg_loss=0.6377864480018616\n",
      "epoch:15/40, all_loss=8.264623641967773\n",
      "epoch:16/40, step:0/13, loss=0.6213989853858948, avg_loss=0.6213989853858948\n",
      "epoch:16/40, step:5/13, loss=0.6128097176551819, avg_loss=0.6171257495880127\n",
      "epoch:16/40, step:10/13, loss=0.6037173271179199, avg_loss=0.6124466061592102\n",
      "epoch:16/40, all_loss=7.938745498657227\n",
      "epoch:17/40, step:0/13, loss=0.596268355846405, avg_loss=0.596268355846405\n",
      "epoch:17/40, step:5/13, loss=0.5868239402770996, avg_loss=0.5918181538581848\n",
      "epoch:17/40, step:10/13, loss=0.576019823551178, avg_loss=0.5868885517120361\n",
      "epoch:17/40, all_loss=7.607021331787109\n",
      "epoch:18/40, step:0/13, loss=0.5708900094032288, avg_loss=0.5708900094032288\n",
      "epoch:18/40, step:5/13, loss=0.5616573095321655, avg_loss=0.5660382509231567\n",
      "epoch:18/40, step:10/13, loss=0.5527459979057312, avg_loss=0.5616703033447266\n",
      "epoch:18/40, all_loss=7.280768871307373\n",
      "epoch:19/40, step:0/13, loss=0.5457546710968018, avg_loss=0.5457546710968018\n",
      "epoch:19/40, step:5/13, loss=0.5361046195030212, avg_loss=0.5417899489402771\n",
      "epoch:19/40, step:10/13, loss=0.5292167663574219, avg_loss=0.5373862385749817\n",
      "epoch:19/40, all_loss=6.962827205657959\n",
      "testing...\n"
     ]
    },
    {
     "name": "stderr",
     "output_type": "stream",
     "text": [
      "100%|████████████████████████████████████████████████████████████████████████████████| 250/250 [00:21<00:00, 11.90it/s]\n"
     ]
    },
    {
     "name": "stdout",
     "output_type": "stream",
     "text": [
      "mrr: 0.5253216624259949, hit@1: 0.4136, hit@3: 0.611, hit@10: 0.7544  *\n",
      "epoch:20/40, step:0/13, loss=0.5230214595794678, avg_loss=0.5230214595794678\n",
      "epoch:20/40, step:5/13, loss=0.5137863159179688, avg_loss=0.5181800127029419\n",
      "epoch:20/40, step:10/13, loss=0.504661500453949, avg_loss=0.5141704678535461\n",
      "epoch:20/40, all_loss=6.6646223068237305\n",
      "epoch:21/40, step:0/13, loss=0.5014912486076355, avg_loss=0.5014912486076355\n",
      "epoch:21/40, step:5/13, loss=0.49350568652153015, avg_loss=0.4971495270729065\n",
      "epoch:21/40, step:10/13, loss=0.48511525988578796, avg_loss=0.49304670095443726\n",
      "epoch:21/40, all_loss=6.389317989349365\n",
      "epoch:22/40, step:0/13, loss=0.47941187024116516, avg_loss=0.47941187024116516\n",
      "epoch:22/40, step:5/13, loss=0.47244179248809814, avg_loss=0.47591203451156616\n",
      "epoch:22/40, step:10/13, loss=0.46613216400146484, avg_loss=0.4724207818508148\n",
      "epoch:22/40, all_loss=6.127142429351807\n",
      "epoch:23/40, step:0/13, loss=0.4594895541667938, avg_loss=0.4594895541667938\n",
      "epoch:23/40, step:5/13, loss=0.45238780975341797, avg_loss=0.4567473828792572\n",
      "epoch:23/40, step:10/13, loss=0.44718554615974426, avg_loss=0.45363786816596985\n",
      "epoch:23/40, all_loss=5.880878925323486\n",
      "epoch:24/40, step:0/13, loss=0.44271841645240784, avg_loss=0.44271841645240784\n",
      "epoch:24/40, step:5/13, loss=0.435140997171402, avg_loss=0.43889233469963074\n",
      "epoch:24/40, step:10/13, loss=0.4313993752002716, avg_loss=0.43606775999069214\n",
      "epoch:24/40, all_loss=5.652863502502441\n",
      "testing...\n"
     ]
    },
    {
     "name": "stderr",
     "output_type": "stream",
     "text": [
      "100%|████████████████████████████████████████████████████████████████████████████████| 250/250 [00:20<00:00, 11.94it/s]\n"
     ]
    },
    {
     "name": "stdout",
     "output_type": "stream",
     "text": [
      "mrr: 0.5388463139533997, hit@1: 0.427, hit@3: 0.623, hit@10: 0.766  *\n",
      "epoch:25/40, step:0/13, loss=0.4254181385040283, avg_loss=0.4254181385040283\n",
      "epoch:25/40, step:5/13, loss=0.4198915660381317, avg_loss=0.4223160743713379\n",
      "epoch:25/40, step:10/13, loss=0.4144701063632965, avg_loss=0.4198319911956787\n",
      "epoch:25/40, all_loss=5.442836284637451\n",
      "epoch:26/40, step:0/13, loss=0.4103188216686249, avg_loss=0.4103188216686249\n",
      "epoch:26/40, step:5/13, loss=0.40370476245880127, avg_loss=0.4072265625\n",
      "epoch:26/40, step:10/13, loss=0.4005272090435028, avg_loss=0.40428391098976135\n",
      "epoch:26/40, all_loss=5.238844871520996\n",
      "epoch:27/40, step:0/13, loss=0.3943234384059906, avg_loss=0.3943234384059906\n",
      "epoch:27/40, step:5/13, loss=0.3914278745651245, avg_loss=0.3918728828430176\n",
      "epoch:27/40, step:10/13, loss=0.38548755645751953, avg_loss=0.38971710205078125\n",
      "epoch:27/40, all_loss=5.053178310394287\n",
      "epoch:28/40, step:0/13, loss=0.38139164447784424, avg_loss=0.38139164447784424\n",
      "epoch:28/40, step:5/13, loss=0.37766051292419434, avg_loss=0.37808674573898315\n",
      "epoch:28/40, step:10/13, loss=0.37136146426200867, avg_loss=0.3758733570575714\n",
      "epoch:28/40, all_loss=4.876690864562988\n",
      "epoch:29/40, step:0/13, loss=0.36724725365638733, avg_loss=0.36724725365638733\n",
      "epoch:29/40, step:5/13, loss=0.36308127641677856, avg_loss=0.36571353673934937\n",
      "epoch:29/40, step:10/13, loss=0.35937297344207764, avg_loss=0.36354145407676697\n",
      "epoch:29/40, all_loss=4.715250492095947\n",
      "testing...\n"
     ]
    },
    {
     "name": "stderr",
     "output_type": "stream",
     "text": [
      "100%|████████████████████████████████████████████████████████████████████████████████| 250/250 [00:20<00:00, 11.93it/s]\n"
     ]
    },
    {
     "name": "stdout",
     "output_type": "stream",
     "text": [
      "mrr: 0.5408957004547119, hit@1: 0.4288, hit@3: 0.6244, hit@10: 0.7728  *\n",
      "epoch:30/40, step:0/13, loss=0.3563702702522278, avg_loss=0.3563702702522278\n",
      "epoch:30/40, step:5/13, loss=0.35200655460357666, avg_loss=0.35402044653892517\n",
      "epoch:30/40, step:10/13, loss=0.3483053147792816, avg_loss=0.3518577516078949\n",
      "epoch:30/40, all_loss=4.561625957489014\n",
      "epoch:31/40, step:0/13, loss=0.343534916639328, avg_loss=0.343534916639328\n",
      "epoch:31/40, step:5/13, loss=0.33963093161582947, avg_loss=0.3425942659378052\n",
      "epoch:31/40, step:10/13, loss=0.3365355432033539, avg_loss=0.3408218324184418\n",
      "epoch:31/40, all_loss=4.423052787780762\n",
      "epoch:32/40, step:0/13, loss=0.33443889021873474, avg_loss=0.33443889021873474\n",
      "epoch:32/40, step:5/13, loss=0.33007538318634033, avg_loss=0.3324008285999298\n",
      "epoch:32/40, step:10/13, loss=0.3284552991390228, avg_loss=0.33042535185813904\n",
      "epoch:32/40, all_loss=4.285455226898193\n",
      "epoch:33/40, step:0/13, loss=0.32367369532585144, avg_loss=0.32367369532585144\n",
      "epoch:33/40, step:5/13, loss=0.3207395374774933, avg_loss=0.3225742280483246\n",
      "epoch:33/40, step:10/13, loss=0.3172295093536377, avg_loss=0.32126015424728394\n",
      "epoch:33/40, all_loss=4.173235893249512\n",
      "epoch:34/40, step:0/13, loss=0.31542930006980896, avg_loss=0.31542930006980896\n",
      "epoch:34/40, step:5/13, loss=0.3132861256599426, avg_loss=0.3142789304256439\n",
      "epoch:34/40, step:10/13, loss=0.3088470697402954, avg_loss=0.3129282593727112\n",
      "epoch:34/40, all_loss=4.059108734130859\n",
      "testing...\n"
     ]
    },
    {
     "name": "stderr",
     "output_type": "stream",
     "text": [
      "100%|████████████████████████████████████████████████████████████████████████████████| 250/250 [00:20<00:00, 11.92it/s]\n"
     ]
    },
    {
     "name": "stdout",
     "output_type": "stream",
     "text": [
      "mrr: 0.5411531925201416, hit@1: 0.4302, hit@3: 0.6214, hit@10: 0.7734  *\n",
      "epoch:35/40, step:0/13, loss=0.3080292344093323, avg_loss=0.3080292344093323\n",
      "epoch:35/40, step:5/13, loss=0.304004043340683, avg_loss=0.30543971061706543\n",
      "epoch:35/40, step:10/13, loss=0.3030575215816498, avg_loss=0.3043721318244934\n",
      "epoch:35/40, all_loss=3.950467586517334\n",
      "epoch:36/40, step:0/13, loss=0.3025049567222595, avg_loss=0.3025049567222595\n",
      "epoch:36/40, step:5/13, loss=0.2963460087776184, avg_loss=0.29817861318588257\n",
      "epoch:36/40, step:10/13, loss=0.2952970266342163, avg_loss=0.29706981778144836\n",
      "epoch:36/40, all_loss=3.856097936630249\n",
      "epoch:37/40, step:0/13, loss=0.2929033637046814, avg_loss=0.2929033637046814\n",
      "epoch:37/40, step:5/13, loss=0.2895614504814148, avg_loss=0.29128414392471313\n",
      "epoch:37/40, step:10/13, loss=0.2882974147796631, avg_loss=0.2905087471008301\n",
      "epoch:37/40, all_loss=3.7714219093322754\n",
      "epoch:38/40, step:0/13, loss=0.2857908606529236, avg_loss=0.2857908606529236\n",
      "epoch:38/40, step:5/13, loss=0.28509029746055603, avg_loss=0.28524407744407654\n",
      "epoch:38/40, step:10/13, loss=0.28032487630844116, avg_loss=0.2836684584617615\n",
      "epoch:38/40, all_loss=3.6828668117523193\n",
      "epoch:39/40, step:0/13, loss=0.2812180519104004, avg_loss=0.2812180519104004\n",
      "epoch:39/40, step:5/13, loss=0.27811288833618164, avg_loss=0.27840620279312134\n",
      "epoch:39/40, step:10/13, loss=0.27502718567848206, avg_loss=0.277840793132782\n",
      "epoch:39/40, all_loss=3.607886552810669\n",
      "testing...\n"
     ]
    },
    {
     "name": "stderr",
     "output_type": "stream",
     "text": [
      "100%|████████████████████████████████████████████████████████████████████████████████| 250/250 [00:21<00:00, 11.90it/s]\n"
     ]
    },
    {
     "name": "stdout",
     "output_type": "stream",
     "text": [
      "mrr: 0.5394382476806641, hit@1: 0.427, hit@3: 0.6212, hit@10: 0.776  \n"
     ]
    }
   ],
   "source": [
    "# 构建模型\n",
    "model = TransE(len(ent2id), len(rel2id), norm=distance_norm, dim=embedding_dim).cuda()\n",
    "# model.load_state_dict(torch.load('transE_best.pth'))\n",
    "# 优化器adam\n",
    "optimizer = torch.optim.Adam(model.parameters(), lr=learning_rate)\n",
    "# 损失函数， 对于本例，loss=max(0, (pd-nd)+1)， 负样本距离越小，正样本距离越大越好\n",
    "criterion = nn.MarginRankingLoss(margin=margin, reduction='mean')\n",
    "# 开始训练\n",
    "print('start training...')\n",
    "for epoch in range(epochs):\n",
    "    all_loss = 0\n",
    "    for i, (local_heads, local_relations, local_tails) in enumerate(train_data_loader):\n",
    "\n",
    "        positive_triples = torch.stack((local_heads, local_relations, local_tails), dim=1).cuda()\n",
    "\n",
    "        # 生成负样本\n",
    "        head_or_tail = torch.randint(high=2, size=local_heads.size())\n",
    "        random_entities = torch.randint(high=len(ent2id), size=local_heads.size())\n",
    "        broken_heads = torch.where(head_or_tail == 1, random_entities, local_heads)\n",
    "        broken_tails = torch.where(head_or_tail == 0, random_entities, local_tails)\n",
    "        negative_triples = torch.stack((broken_heads, local_relations, broken_tails), dim=1).cuda()\n",
    "\n",
    "        # # 生成负样本, 只打乱tail\n",
    "        # random_entities = torch.randint(high=len(ent2id), size=local_heads.size())\n",
    "        # negative_triples = torch.stack((random_entities, local_relations, random_entities), dim=1).cuda()\n",
    "\n",
    "        optimizer.zero_grad()\n",
    "        pd, nd = model(positive_triples, negative_triples)\n",
    "        # pd要尽可能小， nd要尽可能大\n",
    "        loss = criterion(pd, nd, torch.tensor([-1], dtype=torch.long).cuda())\n",
    "        loss.backward()\n",
    "        all_loss += loss.data\n",
    "        optimizer.step()\n",
    "        if i % print_frequency == 0:\n",
    "            print(\n",
    "                f\"epoch:{epoch}/{epochs}, step:{i}/{len(train_data_loader)}, loss={loss.item()}, avg_loss={all_loss / (i + 1)}\")\n",
    "    print(f\"epoch:{epoch}/{epochs}, all_loss={all_loss}\")\n",
    "\n",
    "    # 验证\n",
    "    if validation and (epoch + 1) % dev_interval == 0:\n",
    "        print('testing...')\n",
    "        improve = ''\n",
    "        mrr, hits1, hits3, hits10 = model.evaluate(dev_data_loader)\n",
    "        if mrr >= best_mrr:\n",
    "            best_mrr = mrr\n",
    "            improve = '*'\n",
    "            torch.save(model.state_dict(), 'transE_best.pth')\n",
    "        torch.save(model.state_dict(), 'transE_latest.pth')\n",
    "        print(f'mrr: {mrr}, hit@1: {hits1}, hit@3: {hits3}, hit@10: {hits10}  {improve}')\n",
    "    if not validation:\n",
    "        torch.save(model.state_dict(), 'transE_latest.pth')"
   ]
  },
  {
   "cell_type": "markdown",
   "metadata": {},
   "source": [
    "## 预测"
   ]
  },
  {
   "cell_type": "code",
   "execution_count": 10,
   "metadata": {},
   "outputs": [
    {
     "name": "stderr",
     "output_type": "stream",
     "text": [
      "100%|████████████████████████████████████████████████████████████████████████████████| 250/250 [00:20<00:00, 12.15it/s]"
     ]
    },
    {
     "name": "stdout",
     "output_type": "stream",
     "text": [
      "prediction finished !\n"
     ]
    },
    {
     "name": "stderr",
     "output_type": "stream",
     "text": [
      "\n"
     ]
    }
   ],
   "source": [
    "predict_all = []\n",
    "model.load_state_dict(torch.load('transE_best.pth'))\n",
    "for heads, relations in tqdm.tqdm(test_data_loader):\n",
    "    # 预测的id,结果为tensor(batch_size*10)\n",
    "    predict_id = model.link_predict(heads.cuda(), relations.cuda())\n",
    "    # 结果取到cpu并转为一行的list以便迭代\n",
    "    predict_list = predict_id.cpu().numpy().reshape(1,-1).squeeze(0).tolist()\n",
    "    # id转为实体\n",
    "    predict_ent = map(lambda x: id2ent[x], predict_list)\n",
    "    # 保存结果\n",
    "    predict_all.extend(predict_ent)\n",
    "print('prediction finished !')"
   ]
  },
  {
   "cell_type": "markdown",
   "metadata": {},
   "source": [
    "## 写入文件并保存"
   ]
  },
  {
   "cell_type": "code",
   "execution_count": 11,
   "metadata": {},
   "outputs": [
    {
     "name": "stdout",
     "output_type": "stream",
     "text": [
      "file saved !\n"
     ]
    }
   ],
   "source": [
    "# 写入文件，按提交要求\n",
    "with open('submission.tsv', 'w', encoding='utf-8') as f:\n",
    "    for i in range(len(test)):\n",
    "        # 直接writelines没有空格分隔，手工加分割符，得按提交格式来\n",
    "        list = [x + '\\t' for x in test[i]] + [x + '\\n' if i == 9 else x + '\\t' for i, x in enumerate(predict_all[i*10:i*10+10])]\n",
    "        f.writelines(list)\n",
    "print('file saved !')"
   ]
  },
  {
   "cell_type": "code",
   "execution_count": null,
   "metadata": {},
   "outputs": [],
   "source": []
  }
 ],
 "metadata": {
  "kernelspec": {
   "display_name": "Python 3 (ipykernel)",
   "language": "python",
   "name": "python3"
  },
  "language_info": {
   "codemirror_mode": {
    "name": "ipython",
    "version": 3
   },
   "file_extension": ".py",
   "mimetype": "text/x-python",
   "name": "python",
   "nbconvert_exporter": "python",
   "pygments_lexer": "ipython3",
   "version": "3.9.18"
  },
  "tianchi_metadata": {
   "competitions": [],
   "datasets": [
    {
     "id": "137349",
     "title": "获取数据集标题失败"
    }
   ],
   "description": "",
   "notebookId": "420547",
   "source": "dsw"
  }
 },
 "nbformat": 4,
 "nbformat_minor": 4
}
