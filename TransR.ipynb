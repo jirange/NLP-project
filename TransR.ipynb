{
 "cells": [
  {
   "cell_type": "code",
   "execution_count": null,
   "id": "e29b8f53",
   "metadata": {},
   "outputs": [],
   "source": [
    "import torch\n",
    "from torch import nn\n",
    "from torch.utils import data\n",
    "import numpy as np\n",
    "import tqdm"
   ]
  },
  {
   "cell_type": "code",
   "execution_count": null,
   "id": "d50b785e",
   "metadata": {},
   "outputs": [],
   "source": [
    "class TripleDataset(data.Dataset):\n",
    "\n",
    "    def __init__(self, ent2id, rel2id, triple_data_list):\n",
    "        self.ent2id = ent2id\n",
    "        self.rel2id = rel2id\n",
    "        self.data = triple_data_list\n",
    "\n",
    "    def __len__(self):\n",
    "        return len(self.data)\n",
    "\n",
    "    def __getitem__(self, index):\n",
    "        head, relation, tail = self.data[index]\n",
    "        head_id = self.ent2id[head]\n",
    "        relation_id = self.rel2id[relation]\n",
    "        tail_id = self.ent2id[tail]\n",
    "        return head_id, relation_id, tail_id"
   ]
  },
  {
   "cell_type": "code",
   "execution_count": null,
   "id": "e77b827f",
   "metadata": {},
   "outputs": [],
   "source": [
    "# 测试集    \n",
    "class TestDataset(data.Dataset):\n",
    "    def __init__(self, ent2id, rel2id, test_data_list):\n",
    "        self.ent2id = ent2id\n",
    "        self.rel2id = rel2id\n",
    "        self.data = test_data_list\n",
    "\n",
    "    def __len__(self):\n",
    "        return len(self.data)\n",
    "\n",
    "    def __getitem__(self, index):\n",
    "        head, relation = self.data[index]\n",
    "        head_id = self.ent2id[head]\n",
    "        relation_id = self.rel2id[relation]\n",
    "        return head_id, relation_id"
   ]
  },
  {
   "cell_type": "markdown",
   "id": "6f0c1c63",
   "metadata": {},
   "source": [
    "TransR模型"
   ]
  },
  {
   "cell_type": "code",
   "execution_count": null,
   "id": "43400d7f",
   "metadata": {},
   "outputs": [],
   "source": [
    "class TransR(nn.Module):\n",
    "\n",
    "    def __init__(self, entity_num, relation_num, norm=1, dim=100):\n",
    "        super(TransR, self).__init__()\n",
    "        self.norm = norm\n",
    "        self.dim = dim\n",
    "        self.entity_num = entity_num\n",
    "        self.relation_num = relation_num\n",
    "        self.entities_emb = self._init_emb(entity_num)\n",
    "        self.relations_emb = self._init_emb(relation_num)\n",
    "        self.relations_matrix = self._init_matrix(relation_num)\n",
    "\n",
    "    def _init_emb(self, num_embeddings):\n",
    "        embedding = nn.Embedding(num_embeddings=num_embeddings, embedding_dim=self.dim)\n",
    "        uniform_range = 6 / np.sqrt(self.dim)\n",
    "        embedding.weight.data.uniform_(-uniform_range, uniform_range)\n",
    "        embedding.weight.data = torch.div(embedding.weight.data, embedding.weight.data.norm(p=2, dim=1, keepdim=True))\n",
    "        return embedding\n",
    "\n",
    "    def _init_matrix(self, num_matrices):\n",
    "        matrices = nn.Embedding(num_embeddings=num_matrices, embedding_dim=self.dim*self.dim)\n",
    "        uniform_range = 6 / np.sqrt(self.dim)\n",
    "        matrices.weight.data.uniform_(-uniform_range, uniform_range)\n",
    "        return matrices\n",
    "\n",
    "    def forward(self, positive_triplets: torch.LongTensor, negative_triplets: torch.LongTensor):\n",
    "        positive_distances = self._distance(positive_triplets)\n",
    "        negative_distances = self._distance(negative_triplets)\n",
    "        return positive_distances, negative_distances\n",
    "\n",
    "    def _distance(self, triplets):\n",
    "        heads = self.entities_emb(triplets[:, 0])\n",
    "        relations = self.relations_emb(triplets[:, 1])\n",
    "        tails = self.entities_emb(triplets[:, 2])\n",
    "        relation_matrices = self.relations_matrix(triplets[:, 1])\n",
    "        relation_matrices = relation_matrices.view(-1, self.dim, self.dim)\n",
    "        projected_heads = torch.matmul(heads.unsqueeze(1), relation_matrices).squeeze(1)\n",
    "        projected_tails = torch.matmul(tails.unsqueeze(1), relation_matrices).squeeze(1)\n",
    "        return (projected_heads + relations - projected_tails).norm(p=self.norm, dim=1)\n",
    "\n",
    "    def link_predict(self, head, relation, tail=None, k=10):\n",
    "        # Same as TransE link prediction, but use projected heads and tails\n",
    "        h_add_r = self.entities_emb(head) + self.relations_emb(relation)\n",
    "        relation_matrices = self.relations_matrix(relation)\n",
    "        relation_matrices = relation_matrices.view(-1, self.dim, self.dim)\n",
    "        h_projected = torch.matmul(h_add_r.unsqueeze(1), relation_matrices).squeeze(1)\n",
    "        h_projected = torch.unsqueeze(h_projected, dim=1)\n",
    "        h_projected = h_projected.expand(h_projected.shape[0], self.entity_num, self.dim)\n",
    "        embed_tail = self.entities_emb.weight.data.expand(h_projected.shape[0], self.entity_num, self.dim)\n",
    "        values, indices = torch.topk(torch.norm(h_projected - embed_tail, dim=2), k=self.entity_num, dim=1, largest=False)\n",
    "        if tail is not None:\n",
    "            tail = tail.view(-1, 1)\n",
    "            rank_num = torch.eq(indices, tail).nonzero().permute(1, 0)[1] + 1\n",
    "            rank_num[rank_num > 9] = 10000\n",
    "            mrr = torch.sum(1 / rank_num)\n",
    "            hits_1_num = torch.sum(torch.eq(indices[:, :1], tail)).item()\n",
    "            hits_3_num = torch.sum(torch.eq(indices[:, :3], tail)).item()\n",
    "            hits_10_num = torch.sum(torch.eq(indices[:, :10], tail)).item()\n",
    "            return mrr, hits_1_num, hits_3_num, hits_10_num\n",
    "        return indices[:, :k]\n",
    "    \n",
    "    def evaluate(self, data_loader, dev_num=5000):\n",
    "        mrr_sum = hits_1_nums = hits_3_nums = hits_10_nums = 0\n",
    "        for heads, relations, tails in tqdm.tqdm(data_loader):\n",
    "            mrr_sum_batch, hits_1_num, hits_3_num, hits_10_num = self.link_predict(heads.cuda(), relations.cuda(), tails.cuda())\n",
    "            mrr_sum += mrr_sum_batch\n",
    "            hits_1_nums += hits_1_num\n",
    "            hits_3_nums += hits_3_num\n",
    "            hits_10_nums += hits_10_num\n",
    "        return mrr_sum / dev_num, hits_1_nums / dev_num, hits_3_nums / dev_num, hits_10_nums / dev_num\n",
    "\n",
    "\n"
   ]
  },
  {
   "cell_type": "markdown",
   "id": "e3c6b17e",
   "metadata": {},
   "source": [
    "### 读取数据"
   ]
  },
  {
   "cell_type": "code",
   "execution_count": null,
   "id": "40072e6e",
   "metadata": {},
   "outputs": [],
   "source": [
    "with open('OpenBG500/OpenBG500_entity2text.tsv', 'r', encoding='utf-8') as fp:\n",
    "    dat = fp.readlines()\n",
    "    lines = [line.strip('\\n').split('\\t') for line in dat]\n",
    "ent2id = {line[0]: i for i, line in enumerate(lines)}\n",
    "with open('OpenBG500/OpenBG500_relation2text.tsv', 'r', encoding='utf-8') as fp:\n",
    "    dat = fp.readlines()\n",
    "    lines = [line.strip().split('\\t') for line in dat]\n",
    "rel2id = {line[0]: i for i, line in enumerate(lines)}\n",
    "with open('OpenBG500/OpenBG500_train.tsv', 'r', encoding='utf-8') as fp:\n",
    "    dat = fp.readlines()\n",
    "    train = [line.strip('\\n').split('\\t') for line in dat]\n",
    "with open('OpenBG500/OpenBG500_dev.tsv', 'r', encoding='utf-8') as fp:\n",
    "    dat = fp.readlines()\n",
    "    dev = [line.strip('\\n').split('\\t') for line in dat]"
   ]
  },
  {
   "cell_type": "markdown",
   "id": "ac9aba27",
   "metadata": {},
   "source": [
    "### 参数设置"
   ]
  },
  {
   "cell_type": "code",
   "execution_count": null,
   "id": "e5ae93a6",
   "metadata": {},
   "outputs": [],
   "source": [
    "train_batch_size = 100000  # batchsize增大，得分略有上升\n",
    "dev_batch_size = 20  # 显存不够就调小\n",
    "epochs = 40\n",
    "margin = 1\n",
    "print_frequency = 5  # 每多少step输出一次信息\n",
    "validation = True  # 是否验证，验证比较费时，注意loss不是越小效果越好哦!!!\n",
    "dev_interval = 5  # 每多少轮验证一次\n",
    "best_mrr = 0\n",
    "learning_rate = 0.001  # 学习率建议粗调0.01-0.001，精调0.001-0.0001\n",
    "distance_norm = 3  # 论文是L1距离效果不好，取2或3效果好\n",
    "embedding_dim = 100  # 维度增大可能会有提升"
   ]
  },
  {
   "cell_type": "markdown",
   "id": "34eb7b85",
   "metadata": {},
   "source": [
    "### 构建数据集"
   ]
  },
  {
   "cell_type": "code",
   "execution_count": null,
   "id": "8b22e8b7",
   "metadata": {},
   "outputs": [],
   "source": [
    "train_dataset = TripleDataset(ent2id, rel2id, train)\n",
    "dev_dataset = TripleDataset(ent2id, rel2id, dev)\n",
    "train_data_loader = data.DataLoader(train_dataset, batch_size=train_batch_size, shuffle=True)\n",
    "dev_data_loader = data.DataLoader(dev_dataset, batch_size=dev_batch_size)"
   ]
  },
  {
   "cell_type": "markdown",
   "id": "fa7f65f4",
   "metadata": {},
   "source": [
    "## 训练和验证"
   ]
  },
  {
   "cell_type": "code",
   "execution_count": null,
   "id": "ede04671",
   "metadata": {},
   "outputs": [],
   "source": [
    "# 构建模型\n",
    "model =TransR(len(ent2id), len(rel2id), norm=distance_norm, dim=embedding_dim).cuda()\n",
    "# model.load_state_dict(torch.load('transR.pth'))\n",
    "\n",
    "# mrr, hits1, hits3, hits10 = model.evaluate(dev_data_loader)\n",
    "# print(f'mrr: {mrr}, hit@1: {hits1}, hit@3: {hits3}, hit@10: {hits10}')"
   ]
  },
  {
   "cell_type": "code",
   "execution_count": null,
   "id": "5df9e6e4",
   "metadata": {},
   "outputs": [],
   "source": [
    "# 优化器adam\n",
    "optimizer = torch.optim.Adam(model.parameters(), lr=learning_rate)\n",
    "# 损失函数， 对于本例，loss=max(0, (pd-nd)+1)， 负样本距离越小，正样本距离越大越好\n",
    "criterion = nn.MarginRankingLoss(margin=margin, reduction='mean')"
   ]
  },
  {
   "cell_type": "markdown",
   "id": "8b365c45",
   "metadata": {},
   "source": [
    "### 训练"
   ]
  },
  {
   "cell_type": "code",
   "execution_count": null,
   "id": "a2eab6c1",
   "metadata": {},
   "outputs": [],
   "source": [
    "print(f\"start train.........\")\n",
    "model.train() # 真的有这一行吗"
   ]
  },
  {
   "cell_type": "code",
   "execution_count": null,
   "id": "fe9669d5",
   "metadata": {},
   "outputs": [],
   "source": [
    "for epoch in range(epochs):\n",
    "    all_loss = 0\n",
    "    for i, (local_heads, local_relations, local_tails) in enumerate(train_data_loader):\n",
    "\n",
    "        positive_triples = torch.stack((local_heads, local_relations, local_tails), dim=1).cuda()\n",
    "\n",
    "        # 生成负样本\n",
    "        head_or_tail = torch.randint(high=2, size=local_heads.size())\n",
    "        random_entities = torch.randint(high=len(ent2id), size=local_heads.size())\n",
    "        broken_heads = torch.where(head_or_tail == 1, random_entities, local_heads)\n",
    "        broken_tails = torch.where(head_or_tail == 0, random_entities, local_tails)\n",
    "        negative_triples = torch.stack((broken_heads, local_relations, broken_tails), dim=1).cuda()\n",
    "\n",
    "        optimizer.zero_grad()\n",
    "        pd, nd = model(positive_triples, negative_triples)\n",
    "        loss = criterion(pd, nd, torch.tensor([-1], dtype=torch.long).cuda())\n",
    "        loss.backward()\n",
    "        all_loss += loss.data\n",
    "        optimizer.step()\n",
    "        if i % print_frequency == 0:\n",
    "            print(f\"epoch:{epoch}/{epochs}, step:{i}/{len(train_data_loader)}, loss={loss.item()}, avg_loss={all_loss / (i + 1)}\")\n",
    "    print(f\"epoch:{epoch}/{epochs}, all_loss={all_loss}\")\n",
    "\n",
    "    # 验证\n",
    "    if validation and (epoch+1) % dev_interval == 0:\n",
    "        print('testing...')\n",
    "        improve = ''\n",
    "        mrr, hits1, hits3, hits10 = model.evaluate(dev_data_loader)\n",
    "        if mrr >= best_mrr:\n",
    "            best_mrr = mrr\n",
    "            improve = '*'\n",
    "            torch.save(model.state_dict(), 'transR_best.pth')\n",
    "        torch.save(model.state_dict(), 'transR_latest.pth')\n",
    "        print(f'mrr: {mrr}, hit@1: {hits1}, hit@3: {hits3}, hit@10: {hits10}  {improve}')\n",
    "    if not validation:\n",
    "        torch.save(model.state_dict(), 'transR_latest.pth')"
   ]
  },
  {
   "cell_type": "markdown",
   "id": "2ca4200e",
   "metadata": {},
   "source": [
    "### 预测"
   ]
  },
  {
   "cell_type": "code",
   "execution_count": null,
   "id": "20a10458",
   "metadata": {},
   "outputs": [],
   "source": [
    "predict_all = []\n",
    "model.load_state_dict(torch.load('transE_best.pth'))\n",
    "for heads, relations in tqdm.tqdm(test_data_loader):\n",
    "    # 预测的id,结果为tensor(batch_size*10)\n",
    "    predict_id = model.link_predict(heads.cuda(), relations.cuda())\n",
    "    # 结果取到cpu并转为一行的list以便迭代\n",
    "    predict_list = predict_id.cpu().numpy().reshape(1,-1).squeeze(0).tolist()\n",
    "    # id转为实体\n",
    "    predict_ent = map(lambda x: id2ent[x], predict_list)\n",
    "    # 保存结果\n",
    "    predict_all.extend(predict_ent)\n",
    "print('prediction finished !')"
   ]
  },
  {
   "cell_type": "markdown",
   "id": "304b8ac6",
   "metadata": {},
   "source": [
    "### 写入文件并保存"
   ]
  },
  {
   "cell_type": "code",
   "execution_count": null,
   "id": "b55f25f0",
   "metadata": {},
   "outputs": [],
   "source": [
    "# 写入文件，按提交要求\n",
    "with open('submission.tsv', 'w', encoding='utf-8') as f:\n",
    "    for i in range(len(test)):\n",
    "        # 直接writelines没有空格分隔，手工加分割符，得按提交格式来\n",
    "        list = [x + '\\t' for x in test[i]] + [x + '\\n' if i == 9 else x + '\\t' for i, x in enumerate(predict_all[i*10:i*10+10])]\n",
    "        f.writelines(list)\n",
    "print('file saved !')"
   ]
  }
 ],
 "metadata": {
  "kernelspec": {
   "display_name": "Python 3 (ipykernel)",
   "language": "python",
   "name": "python3"
  },
  "language_info": {
   "codemirror_mode": {
    "name": "ipython",
    "version": 3
   },
   "file_extension": ".py",
   "mimetype": "text/x-python",
   "name": "python",
   "nbconvert_exporter": "python",
   "pygments_lexer": "ipython3",
   "version": "3.9.18"
  }
 },
 "nbformat": 4,
 "nbformat_minor": 5
}
